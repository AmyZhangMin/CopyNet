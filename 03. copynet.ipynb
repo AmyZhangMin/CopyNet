{
 "cells": [
  {
   "cell_type": "code",
   "execution_count": null,
   "metadata": {
    "collapsed": true
   },
   "outputs": [],
   "source": [
    "# create dataset of number sequences\n",
    "# let's assume that we have a vocabulary size of 1000 words\n",
    "# let's assume that 0 is the EOS token, and 1 is the SOS token, and 2 is PAD"
   ]
  },
  {
   "cell_type": "code",
   "execution_count": null,
   "metadata": {
    "collapsed": false
   },
   "outputs": [],
   "source": [
    "# get LM model\n",
    "import torch \n",
    "import torch.nn as nn\n",
    "import numpy as np\n",
    "import torch.optim as optim\n",
    "from torch.nn.utils.rnn import pack_padded_sequence\n",
    "from torch.autograd import Variable\n",
    "import torch.nn.functional as F\n",
    "from models.copynet import CopyEncoder, CopyDecoder\n",
    "\n",
    "torch.manual_seed(1000)\n",
    "# Hyperparameters\n",
    "embed_size = 150\n",
    "hidden_size = 300\n",
    "num_layers = 1\n",
    "bin_size = 10\n",
    "num_epochs = 100\n",
    "batch_size = 20\n",
    "lr = 0.1\n",
    "vocab_size = 1000"
   ]
  },
  {
   "cell_type": "code",
   "execution_count": null,
   "metadata": {
    "collapsed": false
   },
   "outputs": [],
   "source": [
    "# get data\n",
    "with open('data/copynet_data.txt') as f:\n",
    "    lines = f.readlines()\n",
    "import random\n",
    "random.shuffle(lines)\n",
    "half = int(len(lines)/2)\n",
    "# train = lines[:half]\n",
    "train = lines[:100]\n",
    "test = lines[half:]"
   ]
  },
  {
   "cell_type": "code",
   "execution_count": null,
   "metadata": {
    "collapsed": false
   },
   "outputs": [],
   "source": [
    "def toData(batch):\n",
    "    # [input] batch: list of strings\n",
    "    # [output] input_out, output_out: np array([b x seq]), fixed size, eos & zero padding applied\n",
    "    # [output] in_idx, out_idx: np.array([b]), length of each line in seq \n",
    "    batch = [line.replace('\\n','') for line in batch]\n",
    "    inputs_ = []\n",
    "    outputs_ = []\n",
    "    in_len = []\n",
    "    out_len = []\n",
    "    for line in batch:\n",
    "        inputs, outputs, _ = line.split('\\t')\n",
    "        inputs_.append([int(num) for num in inputs.split(',')]+[1])\n",
    "        outputs_.append([int(num) for num in outputs.split(',')]+[1])\n",
    "        in_len.append(len(inputs_[-1]))\n",
    "        out_len.append(len(outputs_[-1]))\n",
    "    in_len = np.array(in_len)\n",
    "    out_len = np.array(out_len)\n",
    "    max_in = max(in_len)\n",
    "    max_out = max(out_len)\n",
    "    batch_size = len(batch)\n",
    "    input_out = np.zeros([batch_size,max_in],dtype=int)\n",
    "    output_out = np.zeros([batch_size,max_out],dtype=int)\n",
    "    for b in range(batch_size):\n",
    "        input_out[b][:in_len[b]] = np.array(inputs_[b])\n",
    "        output_out[b][:out_len[b]] = np.array(outputs_[b])\n",
    "    out_rev = out_len.argsort()[::-1]\n",
    "#     return input_out, output_out, in_len, out_len    \n",
    "    return input_out[out_rev], output_out[out_rev], in_len[out_rev], out_len[out_rev]"
   ]
  },
  {
   "cell_type": "code",
   "execution_count": null,
   "metadata": {
    "collapsed": true
   },
   "outputs": [],
   "source": [
    "num_samples = len(train)\n",
    "num_batches = int(num_samples/batch_size)"
   ]
  },
  {
   "cell_type": "code",
   "execution_count": null,
   "metadata": {
    "collapsed": false,
    "scrolled": false
   },
   "outputs": [],
   "source": [
    "################ copynet model #####################\n",
    "encoder = CopyEncoder(vocab_size, embed_size, hidden_size)\n",
    "decoder = CopyDecoder(vocab_size, embed_size, hidden_size)\n",
    "# encoder = torch.load(f='models/encoder01.pth')\n",
    "# decoder = torch.load(f='models/decoder01.pth')\n",
    "criterion = nn.CrossEntropyLoss()\n",
    "if torch.cuda.is_available():\n",
    "    encoder.cuda()\n",
    "    decoder.cuda()\n",
    "\n",
    "# for epoch in range(num_epochs):\n",
    "for epoch in range(num_epochs):\n",
    "    print(\"Epoch \",epoch+1)\n",
    "    opt_e = optim.Adam(params=encoder.parameters(), lr=lr)\n",
    "    opt_d = optim.Adam(params=decoder.parameters(), lr=lr)\n",
    "#     opt_e = optim.SGD(params=encoder.parameters(), lr=lr)\n",
    "#     opt_d = optim.SGD(params=decoder.parameters(), lr=lr)\n",
    "    \n",
    "    # shuffle data\n",
    "    random.shuffle(train)\n",
    "    \n",
    "    for i in range(num_batches):\n",
    "        # initialize gradient buffers\n",
    "        opt_e.zero_grad()\n",
    "        opt_d.zero_grad()\n",
    "\n",
    "        # obtain batch outputs\n",
    "        batch = train[i*batch_size:(i+1)*batch_size]\n",
    "        input_out, output_out, in_len, out_len = toData(batch)\n",
    "        \n",
    "        # mask input to remove padding\n",
    "        input_mask = np.array(input_out>0, dtype=int)\n",
    "        \n",
    "        # input and output in Variable form\n",
    "        x = torch.LongTensor(input_out)\n",
    "        y = torch.LongTensor(output_out)\n",
    "        if torch.cuda.is_available():\n",
    "            x = x.cuda()\n",
    "            y = y.cuda()\n",
    "        x = Variable(x)\n",
    "        y = Variable(y)\n",
    "#         print(\"input\",x)\n",
    "        encoded, _ = encoder(x)\n",
    "        \n",
    "        # get initial input of decoder\n",
    "        decoder_in = torch.LongTensor(np.ones(x.size(0),dtype=int))*2\n",
    "        s = None\n",
    "        w = None\n",
    "        if torch.cuda.is_available():\n",
    "            decoder_in = decoder_in.cuda()\n",
    "        decoder_in = Variable(decoder_in)\n",
    "        \n",
    "        \n",
    "        if epoch % 2 ==0:\n",
    "            teacherForcing = True\n",
    "        else:\n",
    "            teacherForcing = False\n",
    "                \n",
    "        for j in range(y.size(1)): # for all sequences\n",
    "            \"\"\"\n",
    "            decoder_in (Variable): [b]\n",
    "            encoded (Variable): [b x seq x hid]\n",
    "            input_out (np.array): [b x seq]\n",
    "            s (Variable): [b x hid]\n",
    "            \"\"\"\n",
    "            # calculate for 1st state\n",
    "            if j==0:\n",
    "                out, s, w = decoder(input_idx=decoder_in, encoded=encoded,\n",
    "                                encoded_idx=input_out, prev_state=s, \n",
    "                                weighted=w, order=j)\n",
    "            else:\n",
    "                tmp_out, s, w = decoder(input_idx=decoder_in, encoded=encoded,\n",
    "                                encoded_idx=input_out, prev_state=s, \n",
    "                                weighted=w, order=j)\n",
    "                out = torch.cat([out,tmp_out],dim=1)\n",
    "            # select next input\n",
    "            if teacherForcing:\n",
    "                decoder_in = y[:,j]\n",
    "            else:\n",
    "                decoder_in = tmp_out.max(2)[1].squeeze()\n",
    "        \n",
    "        target = pack_padded_sequence(y,out_len.tolist(), batch_first=True)[0]\n",
    "        out = pack_padded_sequence(out,out_len.tolist(), batch_first=True)[0]\n",
    "        loss = criterion(out, target)\n",
    "        loss.backward()\n",
    "        opt_e.step()\n",
    "        opt_d.step()\n",
    "    print(\"Loss: \", loss.data[0])\n",
    "                    "
   ]
  },
  {
   "cell_type": "code",
   "execution_count": null,
   "metadata": {
    "collapsed": false
   },
   "outputs": [],
   "source": [
    "x[1]"
   ]
  },
  {
   "cell_type": "code",
   "execution_count": null,
   "metadata": {
    "collapsed": false
   },
   "outputs": [],
   "source": [
    "y[1]"
   ]
  },
  {
   "cell_type": "code",
   "execution_count": null,
   "metadata": {
    "collapsed": false,
    "scrolled": true
   },
   "outputs": [],
   "source": [
    "one_hot = torch.FloatTensor(a.size(0),a.size(1),1000).zero_()\n",
    "one_hot.scatter_(2,a, 1)"
   ]
  },
  {
   "cell_type": "code",
   "execution_count": null,
   "metadata": {
    "collapsed": false
   },
   "outputs": [],
   "source": [
    "type(np.zeros([5,4])[2][0])"
   ]
  },
  {
   "cell_type": "code",
   "execution_count": null,
   "metadata": {
    "collapsed": false
   },
   "outputs": [],
   "source": [
    "one_hot[0][0][700:705]"
   ]
  },
  {
   "cell_type": "code",
   "execution_count": null,
   "metadata": {
    "collapsed": false
   },
   "outputs": [],
   "source": [
    "# torch.save(encoder,'models/seq2seq_encoder.pth')\n",
    "# torch.save(decoder,'models/seq2seq_decoder.pth')"
   ]
  },
  {
   "cell_type": "code",
   "execution_count": null,
   "metadata": {
    "collapsed": true
   },
   "outputs": [],
   "source": [
    "encoder = torch.load(f='models/encoder01.pth')\n",
    "decoder = torch.load(f='models/decoder01.pth')"
   ]
  },
  {
   "cell_type": "code",
   "execution_count": null,
   "metadata": {
    "collapsed": true
   },
   "outputs": [],
   "source": []
  },
  {
   "cell_type": "code",
   "execution_count": null,
   "metadata": {
    "collapsed": true
   },
   "outputs": [],
   "source": [
    "t_str = np.load('data/t_str.npy')\n",
    "t_out = np.load('data/t_out.npy')"
   ]
  },
  {
   "cell_type": "code",
   "execution_count": null,
   "metadata": {
    "collapsed": false
   },
   "outputs": [],
   "source": [
    "################ testing #####################\n",
    "# encoder = Encoder01(vocab_size, hidden_size)\n",
    "# decoder = Decoder01(vocab_size, hidden_size)\n",
    "encoder = torch.load(f='models/encoder01.pth')\n",
    "decoder = torch.load(f='models/decoder01.pth')\n",
    "criterion = nn.CrossEntropyLoss()\n",
    "encoder.cuda()\n",
    "decoder.cuda()\n",
    "\n",
    "# for epoch in range(num_epochs):\n",
    "for epoch in range(num_epochs):\n",
    "\n",
    "    for i in range(num_batches):\n",
    "        # obtain batches\n",
    "        batch_str = tr_str[i*batch_size:(i+1)*batch_size]\n",
    "        batch_out = tr_out[i*batch_size:(i+1)*batch_size]\n",
    "                \n",
    "        # batches in Variables\n",
    "        x = torch.LongTensor(batch_str)\n",
    "        x = x.cuda()\n",
    "        x = Variable(x)\n",
    "        y = torch.LongTensor(batch_out)\n",
    "        y = y.cuda()\n",
    "        y = Variable(y)\n",
    "        \n",
    "        # get outputs of encoder\n",
    "        _, h = encoder(x)\n",
    "        \n",
    "        decoder_in = Variable(torch.LongTensor(np.ones(x.size(0),dtype=int)))\n",
    "        decoder_in = decoder_in.cuda()\n",
    "        loss = 0\n",
    "        print(\"input: \",batch_str[0])\n",
    "        print(\"answer: \",batch_out[0])\n",
    "        for j in range(y.size(1)):\n",
    "            out, h = decoder(decoder_in, h)\n",
    "            target = y[:,j]\n",
    "            loss+=criterion(out, target)\n",
    "            decoder_in = out.max(1)[1].squeeze()\n",
    "            print(decoder_in[0].data[0])\n",
    "    print(\"Loss for epoch %d: %.3f\" %(epoch+1, loss.data[0]))\n",
    "            # in_decoder : [b x 1]"
   ]
  },
  {
   "cell_type": "markdown",
   "metadata": {},
   "source": [
    "Our model fails to generalize"
   ]
  }
 ],
 "metadata": {
  "anaconda-cloud": {},
  "kernelspec": {
   "display_name": "Python [conda env:pytorch]",
   "language": "python",
   "name": "conda-env-pytorch-py"
  },
  "language_info": {
   "codemirror_mode": {
    "name": "ipython",
    "version": 3
   },
   "file_extension": ".py",
   "mimetype": "text/x-python",
   "name": "python",
   "nbconvert_exporter": "python",
   "pygments_lexer": "ipython3",
   "version": "3.5.2"
  }
 },
 "nbformat": 4,
 "nbformat_minor": 1
}
