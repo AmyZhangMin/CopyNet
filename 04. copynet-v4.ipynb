{
 "cells": [
  {
   "cell_type": "code",
   "execution_count": 1,
   "metadata": {
    "collapsed": true
   },
   "outputs": [],
   "source": [
    "# for real data\n",
    "# create dataset of number sequences\n",
    "# let's assume that we have a vocabulary size of 1000 words\n",
    "# let's assume that 0 is the EOS token, and 1 is the SOS token, and 2 is PAD"
   ]
  },
  {
   "cell_type": "code",
   "execution_count": 1,
   "metadata": {
    "collapsed": false
   },
   "outputs": [],
   "source": [
    "import torch \n",
    "import torch.nn as nn\n",
    "import numpy as np\n",
    "import torch.optim as optim\n",
    "from torch.nn.utils.rnn import pack_padded_sequence, pad_packed_sequence\n",
    "from torch.autograd import Variable\n",
    "import torch.nn.functional as F\n",
    "from models.copynet_debug import CopyEncoder, CopyDecoder\n",
    "from models.functions import numpy_to_var, toData, to_np, to_var, visualize, decoder_initial, update_logger\n",
    "from models.seq2seq import Encoder01, Decoder01\n",
    "from logger import Logger\n",
    "import matplotlib.pyplot as plt\n",
    "import time\n",
    "%matplotlib inline\n",
    "torch.manual_seed(1000)\n",
    "# Hyperparameters\n",
    "embed_size = 150\n",
    "hidden_size = 300\n",
    "num_layers = 1\n",
    "bin_size = 10\n",
    "num_epochs = 1000\n",
    "prev_end=0\n",
    "batch_size = 100\n",
    "lr = 0.001\n",
    "vocab_size = 108\n",
    "\n",
    "step = 0 # number of steps taken"
   ]
  },
  {
   "cell_type": "code",
   "execution_count": 8,
   "metadata": {
    "collapsed": true
   },
   "outputs": [],
   "source": [
    "import sys\n",
    "import math\n",
    "data_dir = 'js_dataset/var_dataset_3_shorter.txt'\n",
    "# data_dir = 'data/copynet_data_v2.2.txt'\n",
    "save_dir = 'eval_3.2.4.csv'"
   ]
  },
  {
   "cell_type": "code",
   "execution_count": 9,
   "metadata": {
    "collapsed": false
   },
   "outputs": [],
   "source": [
    "\n",
    "# get data\n",
    "# with open('data/copynet_data_simple.txt') as f:\n",
    "with open(data_dir) as f:\n",
    "    lines = f.readlines()\n",
    "import random\n",
    "# random.shuffle(lines)\n",
    "half = int(len(lines)/2)\n",
    "# train = lines[:half]\n",
    "# test = lines[half:]\n",
    "train = lines\n",
    "random.shuffle(train)\n",
    "test = train[:50]\n",
    "train = train[50:]"
   ]
  },
  {
   "cell_type": "code",
   "execution_count": 10,
   "metadata": {
    "collapsed": false
   },
   "outputs": [],
   "source": [
    "logger = Logger('./logs')"
   ]
  },
  {
   "cell_type": "code",
   "execution_count": 11,
   "metadata": {
    "collapsed": false
   },
   "outputs": [],
   "source": [
    "# encoder = torch.load(f='models/encoder_41.pckl')\n",
    "# decoder = torch.load(f='models/decoder_41.pckl')"
   ]
  },
  {
   "cell_type": "code",
   "execution_count": 12,
   "metadata": {
    "collapsed": false
   },
   "outputs": [],
   "source": [
    "num_samples = len(train)\n",
    "num_batches = int(num_samples/batch_size)"
   ]
  },
  {
   "cell_type": "code",
   "execution_count": null,
   "metadata": {
    "collapsed": false,
    "scrolled": true
   },
   "outputs": [
    {
     "name": "stdout",
     "output_type": "stream",
     "text": [
      "==================================================\n",
      "Epoch  1\n",
      "[0/112] Loss: 4.6690\n"
     ]
    }
   ],
   "source": [
    "################ copynet model #####################\n",
    "encoder = CopyEncoder(vocab_size, embed_size, hidden_size)\n",
    "decoder = CopyDecoder(vocab_size, embed_size, hidden_size)\n",
    "# opt_e = optim.Adam(params=encoder.parameters(), lr=lr)\n",
    "# opt_d = optim.Adam(params=decoder.parameters(), lr=lr)\n",
    "# encoder = torch.load(f='models/encoder_1000_95.pckl')\n",
    "# decoder = torch.load(f='models/decoder_1000_95.pckl')\n",
    "criterion = nn.CrossEntropyLoss()\n",
    "if torch.cuda.is_available():\n",
    "    encoder.cuda()\n",
    "    decoder.cuda()\n",
    "\n",
    "    \n",
    "\n",
    "\n",
    "################################# training ##################################\n",
    "\n",
    "start = time.time()\n",
    "# for epoch in range(num_epochs):\n",
    "epoch_arr = np.arange(num_epochs,dtype=int)\n",
    "epoch_arr+=prev_end\n",
    "for epoch in epoch_arr:\n",
    "# for epoch in range(num_epochs):\n",
    "#     if epoch % 20 == 19:\n",
    "#         lr=lr/3\n",
    "    print(\"==================================================\")\n",
    "    print(\"Epoch \",epoch+1)\n",
    "    opt_e = optim.Adam(params=encoder.parameters(), lr=lr)\n",
    "    opt_d = optim.Adam(params=decoder.parameters(), lr=lr)\n",
    "    lr= lr * 0.99\n",
    "    # shuffle data\n",
    "    random.shuffle(train)\n",
    "    \n",
    "    for i in range(num_batches):\n",
    "        # initialize gradient buffers\n",
    "        opt_e.zero_grad()\n",
    "        opt_d.zero_grad()\n",
    "\n",
    "        # obtain batch outputs\n",
    "        batch = train[i*batch_size:(i+1)*batch_size]\n",
    "        input_out, output_out, in_len, out_len = toData(batch)\n",
    "        \n",
    "        # mask input to remove padding\n",
    "        input_mask = np.array(input_out>0, dtype=int)\n",
    "        \n",
    "        # input and output in Variable form\n",
    "        x = numpy_to_var(input_out)\n",
    "        y = numpy_to_var(output_out)\n",
    "        \n",
    "        # apply to encoder\n",
    "        encoded, _ = encoder(x)\n",
    "        \n",
    "        # get initial input of decoder\n",
    "        decoder_in, s, w = decoder_initial(x.size(0))\n",
    "\n",
    "        # out_list to store outputs\n",
    "        out_list=[]\n",
    "        for j in range(y.size(1)): # for all sequences\n",
    "            \"\"\"\n",
    "            decoder_in (Variable): [b]\n",
    "            encoded (Variable): [b x seq x hid]\n",
    "            input_out (np.array): [b x seq]\n",
    "            s (Variable): [b x hid]\n",
    "            \"\"\"\n",
    "            # 1st state\n",
    "            if j==0:\n",
    "                out, s, w = decoder(input_idx=decoder_in, encoded=encoded,\n",
    "                                encoded_idx=input_out, prev_state=s, \n",
    "                                weighted=w, order=j)\n",
    "            # remaining states\n",
    "            else:\n",
    "                tmp_out, s, w = decoder(input_idx=decoder_in, encoded=encoded,\n",
    "                                encoded_idx=input_out, prev_state=s, \n",
    "                                weighted=w, order=j)\n",
    "                out = torch.cat([out,tmp_out],dim=1)\n",
    "\n",
    "            # for debugging: stop if nan\n",
    "            if math.isnan(w[-1][0][0].data[0]):\n",
    "                sys.exit()\n",
    "            # select next input\n",
    "            \n",
    "            if epoch % 2 ==13:\n",
    "                decoder_in = out[:,-1].max(1)[1].squeeze() # train with sequence outputs\n",
    "            else:\n",
    "                decoder_in = y[:,j] # train with ground truth\n",
    "            out_list.append(out[:,-1].max(1)[1].squeeze().cpu().data.numpy())\n",
    "\n",
    "        # print(torch.stack(decoder.prob_c_to_g,1))\n",
    "        target = pack_padded_sequence(y,out_len.tolist(), batch_first=True)[0]\n",
    "        pad_out = pack_padded_sequence(out,out_len.tolist(), batch_first=True)[0]\n",
    "        loss = criterion(pad_out, target)\n",
    "        loss.backward()\n",
    "        if i%int(num_batches/5)==0:\n",
    "            print(\"[%d/%d] Loss: %1.4f\"%(i,num_batches,loss.data[0]))\n",
    "        opt_e.step()\n",
    "        opt_d.step()\n",
    "        step += 1\n",
    "        info = {\n",
    "            'loss': loss.data[0]\n",
    "        }\n",
    "    print(\"Loss: \",loss.data[0])\n",
    "    elapsed = time.time()\n",
    "    print(\"Elapsed time: \",elapsed-start)\n",
    "    start = time.time()\n",
    "        # update for tensorboard\n",
    "#         logger = update_logger(logger, [encoder,decoder], loss, step)\n",
    "    \n",
    "    ################################# validation ##################################\n",
    "    if epoch % 2==0:\n",
    "        print(\"Printing results\")\n",
    "        input_out, output_out, in_len, out_len = toData(test)\n",
    "        input_mask = np.array(input_out>0, dtype=int)\n",
    "        x = numpy_to_var(input_out)\n",
    "        y = numpy_to_var(output_out)\n",
    "        if epoch==0:\n",
    "            with open(save_dir,'a') as f:\n",
    "                x_input = x.cpu().data.numpy().transpose()\n",
    "                y_input = y.cpu().data.numpy().transpose()\n",
    "                m = max(x_input.shape[0],y_input.shape[0])\n",
    "                out_ = np.zeros([m,x_input.shape[1]*2])\n",
    "                out_[:x_input.shape[0],x_input.shape[1]:]=x_input\n",
    "                out_[:y_input.shape[0],:y_input.shape[1]]=y_input\n",
    "                out = []\n",
    "                for line in out_:\n",
    "                    tmp = ','.join([str(x_) for x_ in line])\n",
    "                    out.append(tmp)\n",
    "                f.write('\\n'.join(out)+'\\n')\n",
    "        encoded, _ = encoder(x)\n",
    "        decoder_in, s, w = decoder_initial(x.size(0))\n",
    "        out_list=[]\n",
    "        for j in range(y.size(1)): # for all sequences\n",
    "            if j==0:\n",
    "                out, s, w = decoder(input_idx=decoder_in, encoded=encoded,\n",
    "                                encoded_idx=input_out, prev_state=s, \n",
    "                                weighted=w, order=j)\n",
    "            else:\n",
    "                tmp_out, s, w = decoder(input_idx=decoder_in, encoded=encoded,\n",
    "                                encoded_idx=input_out, prev_state=s, \n",
    "                                weighted=w, order=j)\n",
    "                out = torch.cat([out,tmp_out],dim=1)\n",
    "            decoder_in = out[:,-1].max(1)[1].squeeze() # train with sequence outputs\n",
    "            out_list.append(out[:,-1].max(1)[1].squeeze().cpu().data.numpy())\n",
    "        out = np.array(out_list)\n",
    "        iden = np.array(out==y_input,dtype=int)\n",
    "        with open(save_dir,'a') as f:\n",
    "            out = np.hstack(tup=(out,iden))\n",
    "            f.write('\\n')\n",
    "            for line in out:\n",
    "                f.write(','.join([str(y_) for y_ in line])+'\\n')\n",
    "        torch.save(f='models/encoder_1000_'+str(epoch)+'_v4.pckl',obj=encoder)\n",
    "        torch.save(f='models/decoder_1000_'+str(epoch)+'_v4.pckl',obj=decoder)"
   ]
  },
  {
   "cell_type": "code",
   "execution_count": 9,
   "metadata": {
    "collapsed": false
   },
   "outputs": [
    {
     "data": {
      "text/plain": [
       "100"
      ]
     },
     "execution_count": 9,
     "metadata": {},
     "output_type": "execute_result"
    }
   ],
   "source": [
    "epoch"
   ]
  },
  {
   "cell_type": "code",
   "execution_count": null,
   "metadata": {
    "collapsed": true
   },
   "outputs": [],
   "source": []
  },
  {
   "cell_type": "code",
   "execution_count": null,
   "metadata": {
    "collapsed": false
   },
   "outputs": [],
   "source": [
    "################################# validation ##################################\n",
    "print(\"Printing results\")\n",
    "input_out, output_out, in_len, out_len = toData(test)\n",
    "input_mask = np.array(input_out>0, dtype=int)\n",
    "x = numpy_to_var(input_out)\n",
    "y = numpy_to_var(output_out)\n",
    "encoded, _ = encoder(x)\n",
    "decoder_in, s, w = decoder_initial(x.size(0))\n",
    "out_list=[]\n",
    "for j in range(y.size(1)): # for all sequences\n",
    "    if j==0:\n",
    "        out, s, w = decoder(input_idx=decoder_in, encoded=encoded,\n",
    "                        encoded_idx=input_out, prev_state=s, \n",
    "                        weighted=w, order=j)\n",
    "    else:\n",
    "        tmp_out, s, w = decoder(input_idx=decoder_in, encoded=encoded,\n",
    "                        encoded_idx=input_out, prev_state=s, \n",
    "                        weighted=w, order=j)\n",
    "        out = torch.cat([out,tmp_out],dim=1)\n",
    "    decoder_in = y[:,j] # train with ground truth\n",
    "#     decoder_in = out[:,-1].max(1)[1].squeeze() # train with sequence outputs\n",
    "    out_list.append(out[:,-1].max(1)[1].squeeze().cpu().data.numpy())\n",
    "# with open(save_dir,'a') as f:\n",
    "#     out = np.hstack(tup=(out,iden))\n",
    "#     f.write('\\n')\n",
    "#     for line in out:\n",
    "#         f.write(','.join([str(y_) for y_ in line])+'\\n')"
   ]
  },
  {
   "cell_type": "code",
   "execution_count": null,
   "metadata": {
    "collapsed": false
   },
   "outputs": [],
   "source": [
    "# get a sample input, ground truth, output\n",
    "idx = 2\n",
    "print(\"input: \",x[idx].cpu().data.numpy())\n",
    "print(\"truth: \",y[idx].cpu().data.numpy())\n",
    "O = torch.cat(decoder.O,1)\n",
    "print(\"output: \",O[idx].max(1)[1].cpu().numpy().squeeze())\n",
    "A = torch.stack(decoder.A,1)\n",
    "A2 = torch.stack(decoder.A2,1)\n",
    "P = torch.stack(decoder.P,1)\n",
    "I = torch.stack(decoder.I,1)\n",
    "E = torch.stack(decoder.E,1)\n",
    "S = torch.stack(decoder.S,1)\n",
    "W = torch.cat(decoder.W,1)\n",
    "Y = torch.stack(decoder.Y,1)\n",
    "scores = torch.stack(decoder.scores,1)\n",
    "sc = torch.stack(decoder.sc,1)\n",
    "pcg = torch.stack(decoder.prob_c_to_g,1)\n",
    "pc = P[:,:,100:113]\n",
    "pg = P[:,:,:100]"
   ]
  },
  {
   "cell_type": "code",
   "execution_count": null,
   "metadata": {
    "collapsed": false,
    "scrolled": false
   },
   "outputs": [],
   "source": [
    "sc.max()"
   ]
  },
  {
   "cell_type": "code",
   "execution_count": null,
   "metadata": {
    "collapsed": false
   },
   "outputs": [],
   "source": [
    "tmp_s = S[0][0] # state\n",
    "tmp_c = sc[0][0] # from copy\n",
    "tmp_wc = decoder.Wc.weight.data # from generate\n",
    "tmp_wo = decoder.Wo.weight.data # from generate"
   ]
  },
  {
   "cell_type": "code",
   "execution_count": null,
   "metadata": {
    "collapsed": false
   },
   "outputs": [],
   "source": [
    "print(tmp_c.max())\n",
    "print(tmp_wc.max())\n",
    "print(tmp_wo.max())"
   ]
  },
  {
   "cell_type": "code",
   "execution_count": null,
   "metadata": {
    "collapsed": false,
    "scrolled": true
   },
   "outputs": [],
   "source": [
    "torch.mm(tmp_wo,tmp_s.unsqueeze(1))"
   ]
  },
  {
   "cell_type": "code",
   "execution_count": null,
   "metadata": {
    "collapsed": false
   },
   "outputs": [],
   "source": [
    "F.tanh(torch.mm(tmp_c,tmp_s.unsqueeze(1)))"
   ]
  },
  {
   "cell_type": "code",
   "execution_count": null,
   "metadata": {
    "collapsed": false
   },
   "outputs": [],
   "source": [
    "tmp_wo"
   ]
  },
  {
   "cell_type": "code",
   "execution_count": null,
   "metadata": {
    "collapsed": false
   },
   "outputs": [],
   "source": [
    "torch.save(f='models/encoder_41.pckl',obj=encoder)\n",
    "torch.save(f='models/decoder_41.pckl',obj=decoder)"
   ]
  },
  {
   "cell_type": "code",
   "execution_count": null,
   "metadata": {
    "collapsed": false,
    "scrolled": false
   },
   "outputs": [],
   "source": [
    "a = np.arange(130,dtype=float).reshape([10,13])\n",
    "b = (torch.Tensor(a))\n",
    "F.softmax(Variable(b*I[idx]))"
   ]
  },
  {
   "cell_type": "code",
   "execution_count": null,
   "metadata": {
    "collapsed": false
   },
   "outputs": [],
   "source": [
    "I"
   ]
  },
  {
   "cell_type": "code",
   "execution_count": null,
   "metadata": {
    "collapsed": false
   },
   "outputs": [],
   "source": [
    "P[4:8,:,:].max(2)[0].squeeze()"
   ]
  },
  {
   "cell_type": "code",
   "execution_count": null,
   "metadata": {
    "collapsed": false
   },
   "outputs": [],
   "source": [
    "A = torch.stack(decoder.A,1)"
   ]
  },
  {
   "cell_type": "code",
   "execution_count": null,
   "metadata": {
    "collapsed": false
   },
   "outputs": [],
   "source": [
    "P = torch.stack(decoder.P,1)\n",
    "p = torch.stack(decoder.prob_c_to_g,1)\n",
    "pg = torch.stack(decoder.prob_g,1)"
   ]
  },
  {
   "cell_type": "code",
   "execution_count": null,
   "metadata": {
    "collapsed": false
   },
   "outputs": [],
   "source": [
    "pg[-2]"
   ]
  },
  {
   "cell_type": "code",
   "execution_count": null,
   "metadata": {
    "collapsed": false
   },
   "outputs": [],
   "source": [
    "O[4,:,3]"
   ]
  },
  {
   "cell_type": "code",
   "execution_count": null,
   "metadata": {
    "collapsed": false
   },
   "outputs": [],
   "source": [
    "P.size()"
   ]
  },
  {
   "cell_type": "code",
   "execution_count": null,
   "metadata": {
    "collapsed": false
   },
   "outputs": [],
   "source": [
    "p.size()"
   ]
  },
  {
   "cell_type": "code",
   "execution_count": null,
   "metadata": {
    "collapsed": true
   },
   "outputs": [],
   "source": []
  },
  {
   "cell_type": "code",
   "execution_count": null,
   "metadata": {
    "collapsed": true
   },
   "outputs": [],
   "source": []
  },
  {
   "cell_type": "code",
   "execution_count": null,
   "metadata": {
    "collapsed": true
   },
   "outputs": [],
   "source": []
  },
  {
   "cell_type": "code",
   "execution_count": null,
   "metadata": {
    "collapsed": false
   },
   "outputs": [],
   "source": [
    "import numpy as np\n",
    "import torch\n",
    "vocab_size=100\n",
    "# test one-hot\n",
    "encoded_idx = np.array([[38,4,73,57,59,49],[54,57,59,49,89,26]])\n",
    "en = torch.LongTensor(encoded_idx)\n",
    "en.unsqueeze_(2)\n",
    "one_hot = torch.FloatTensor(en.size(0),en.size(1),vocab_size).zero_()\n",
    "one_hot.scatter_(2,en,1) # one hot tensor: [b x seq x vocab]"
   ]
  },
  {
   "cell_type": "code",
   "execution_count": null,
   "metadata": {
    "collapsed": false
   },
   "outputs": [],
   "source": [
    "visualize(Variable(one_hot[1]))"
   ]
  },
  {
   "cell_type": "code",
   "execution_count": null,
   "metadata": {
    "collapsed": false
   },
   "outputs": [],
   "source": [
    "torch.stack(decoder.prob_c_to_g,dim=1)[:,0].max(1)[1]"
   ]
  },
  {
   "cell_type": "code",
   "execution_count": null,
   "metadata": {
    "collapsed": false
   },
   "outputs": [],
   "source": [
    "visualize(torch.stack(decoder.probs,dim=1)[:,0])"
   ]
  },
  {
   "cell_type": "code",
   "execution_count": null,
   "metadata": {
    "collapsed": false
   },
   "outputs": [],
   "source": [
    "torch.stack(decoder.probs,dim=1)[:,0,100:].sum(1)"
   ]
  },
  {
   "cell_type": "code",
   "execution_count": null,
   "metadata": {
    "collapsed": false
   },
   "outputs": [],
   "source": [
    "visualize(torch.stack(decoder.prob_c_to_g,dim=1)[:,0])"
   ]
  },
  {
   "cell_type": "code",
   "execution_count": null,
   "metadata": {
    "collapsed": false
   },
   "outputs": [],
   "source": [
    "visualize(out[:,0])"
   ]
  },
  {
   "cell_type": "code",
   "execution_count": null,
   "metadata": {
    "collapsed": false
   },
   "outputs": [],
   "source": [
    "visualize(torch.stack(decoder.attn,dim=1)[:,2])"
   ]
  },
  {
   "cell_type": "code",
   "execution_count": null,
   "metadata": {
    "collapsed": false
   },
   "outputs": [],
   "source": [
    "x"
   ]
  },
  {
   "cell_type": "code",
   "execution_count": null,
   "metadata": {
    "collapsed": false
   },
   "outputs": [],
   "source": [
    "y"
   ]
  },
  {
   "cell_type": "code",
   "execution_count": null,
   "metadata": {
    "collapsed": false
   },
   "outputs": [],
   "source": [
    "out.max(2)[1].squeeze()"
   ]
  },
  {
   "cell_type": "code",
   "execution_count": null,
   "metadata": {
    "collapsed": false
   },
   "outputs": [],
   "source": [
    "torch.stack(decoder.W,1).squeeze()[:,1].sum(1)"
   ]
  },
  {
   "cell_type": "code",
   "execution_count": null,
   "metadata": {
    "collapsed": true
   },
   "outputs": [],
   "source": []
  }
 ],
 "metadata": {
  "anaconda-cloud": {},
  "kernelspec": {
   "display_name": "Python [conda env:pytorch]",
   "language": "python",
   "name": "conda-env-pytorch-py"
  },
  "language_info": {
   "codemirror_mode": {
    "name": "ipython",
    "version": 3
   },
   "file_extension": ".py",
   "mimetype": "text/x-python",
   "name": "python",
   "nbconvert_exporter": "python",
   "pygments_lexer": "ipython3",
   "version": "3.5.2"
  }
 },
 "nbformat": 4,
 "nbformat_minor": 1
}
